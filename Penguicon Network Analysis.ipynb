{
 "cells": [
  {
   "cell_type": "code",
   "execution_count": 1,
   "metadata": {
    "collapsed": false
   },
   "outputs": [],
   "source": [
    "from pprint import pprint\n",
    "import networkx as nx\n",
    "import networkx.algorithms as nxalg\n",
    "import schedule"
   ]
  },
  {
   "cell_type": "code",
   "execution_count": 2,
   "metadata": {
    "collapsed": false
   },
   "outputs": [],
   "source": [
    "schedule_filename = \"data/schedule_raw.csv\"\n",
    "presenters_filename = \"output/presenter.gexf\"\n",
    "panels_filename = \"output/panel.gexf\""
   ]
  },
  {
   "cell_type": "code",
   "execution_count": 3,
   "metadata": {
    "collapsed": false
   },
   "outputs": [
    {
     "name": "stdout",
     "output_type": "stream",
     "text": [
      "('Practical Home Networking Using a Linux Router', 'Tony Bemus', 'Undirected')\n"
     ]
    }
   ],
   "source": [
    "schedule_data = schedule.load_data(schedule_filename)\n",
    "node_data = schedule.find_nodes(schedule_data)\n",
    "edge_data = schedule.find_edges(schedule_data)\n",
    "print edge_data[0]"
   ]
  },
  {
   "cell_type": "code",
   "execution_count": 4,
   "metadata": {
    "collapsed": false
   },
   "outputs": [],
   "source": [
    "panel_nodes = [label for label, nid, ntype in node_data if ntype == 'panel']\n",
    "presenter_nodes = [label for label, nid, ntype in node_data if ntype == 'presenter']"
   ]
  },
  {
   "cell_type": "code",
   "execution_count": 7,
   "metadata": {
    "collapsed": false
   },
   "outputs": [],
   "source": [
    "G = nx.Graph()\n",
    "G.add_nodes_from(panel_nodes)\n",
    "G.add_nodes_from(presenter_nodes)"
   ]
  },
  {
   "cell_type": "code",
   "execution_count": 9,
   "metadata": {
    "collapsed": false
   },
   "outputs": [],
   "source": [
    "G.add_edges_from([(source, target) for source, target, etype in edge_data])"
   ]
  },
  {
   "cell_type": "code",
   "execution_count": 10,
   "metadata": {
    "collapsed": false
   },
   "outputs": [
    {
     "name": "stdout",
     "output_type": "stream",
     "text": [
      "['Leading FLOSS Projects',\n",
      " 'Social Network Analysis: NetworkX and Gephi',\n",
      " 'Community Organizing Tech Roundtable',\n",
      " 'Communication for Geeks']\n"
     ]
    }
   ],
   "source": [
    "pprint(G.neighbors('Ed Platt'))"
   ]
  },
  {
   "cell_type": "code",
   "execution_count": 11,
   "metadata": {
    "collapsed": false
   },
   "outputs": [
    {
     "data": {
      "text/plain": [
       "['Janet Gocay',\n",
       " 'Albert Manero',\n",
       " 'Nuri Gocay',\n",
       " 'Cylithria Dubois',\n",
       " 'Ivan Owen',\n",
       " 'Scott Kennedy',\n",
       " 'Jen Owen',\n",
       " 'Charlie Jane Anders',\n",
       " 'Amanda Long-Adams',\n",
       " 'Annalee Newitz',\n",
       " 'Aral Balkan',\n",
       " 'Lucy Kennedy',\n",
       " 'Christine Bender',\n",
       " 'Amanda Robinson']"
      ]
     },
     "execution_count": 11,
     "metadata": {},
     "output_type": "execute_result"
    }
   ],
   "source": [
    "G.neighbors('Opening Ceremonies')"
   ]
  },
  {
   "cell_type": "code",
   "execution_count": 13,
   "metadata": {
    "collapsed": false
   },
   "outputs": [
    {
     "data": {
      "text/plain": [
       "[\"2014's Con Chair Roast\",\n",
       " 'How To Turn Imposter Syndrome Into A Superpower',\n",
       " 'The Future of Bionics',\n",
       " 'Watching TV That Looks Like Me',\n",
       " 'Science Fiction Spelling Bee',\n",
       " 'What Do Your Users Really Think?',\n",
       " 'PowerPoint Improv',\n",
       " 'Guest of Honor Social Hour',\n",
       " 'Costume Contest',\n",
       " 'DIY Infusions and Liqueurs',\n",
       " 'Independent SW/HW: Bucking Big Industry for Fun and Profit',\n",
       " 'Building Hands for Our Charity',\n",
       " 'DIY Mad Science',\n",
       " 'Surveillance Can Be Fun: The Future of Civil Liberties in Tech',\n",
       " 'Aerospace Engineering for Beginners',\n",
       " 'Penguicon 2016 Planning Meeting',\n",
       " 'Flirting for Geeks',\n",
       " 'Closing Ceremonies',\n",
       " 'Surviving a Nuclear Holocaust',\n",
       " 'Story Structure: What Is It, and Can It Make Your Writing Zoom?',\n",
       " 'So This is Your First Penguicon?',\n",
       " 'Using Your Geek for Good Instead of Evil',\n",
       " 'You got your SCIFI in my...',\n",
       " 'Geeks with Needles: Embroidery 101',\n",
       " 'Cooking With the Con Chair: Sushi!',\n",
       " 'So You Want to be a Manager',\n",
       " 'SciComm: Communicating Science to the Public',\n",
       " 'Creating Safe Spaces',\n",
       " 'KEYNOTE: The Camera Panopticon',\n",
       " 'DIY Bionics with 3D Printers ',\n",
       " 'Science Fiction is Now Science Reality',\n",
       " 'How To Be A Critic: Writing Reviews for Fun and Profit']"
      ]
     },
     "execution_count": 13,
     "metadata": {},
     "output_type": "execute_result"
    }
   ],
   "source": [
    "presenters = nxalg.bipartite.weighted_projected_graph(G, presenter_nodes)\n",
    "panels = nxalg.bipartite.weighted_projected_graph(G, panel_nodes)\n",
    "panels.neighbors('Opening Ceremonies')"
   ]
  },
  {
   "cell_type": "code",
   "execution_count": 14,
   "metadata": {
    "collapsed": false
   },
   "outputs": [],
   "source": [
    "presenter_betweenness = nx.betweenness_centrality(presenters)\n",
    "presenter_eigenvector = nx.eigenvector_centrality(presenters)\n",
    "panel_betweenness = nx.betweenness_centrality(panels)\n",
    "panel_eigenvector = nx.eigenvector_centrality(panels)"
   ]
  },
  {
   "cell_type": "code",
   "execution_count": 15,
   "metadata": {
    "collapsed": false
   },
   "outputs": [],
   "source": [
    "nx.set_node_attributes(presenters, 'betweenness', presenter_betweenness)\n",
    "nx.set_node_attributes(presenters, 'eigenvector', presenter_eigenvector)\n",
    "nx.set_node_attributes(panels, 'betweenness', panel_betweenness)\n",
    "nx.set_node_attributes(panels, 'eigenvector', panel_eigenvector)"
   ]
  },
  {
   "cell_type": "code",
   "execution_count": 16,
   "metadata": {
    "collapsed": false
   },
   "outputs": [],
   "source": [
    "nx.write_gexf(presenters, presenters_filename)\n",
    "nx.write_gexf(panels, panels_filename)"
   ]
  },
  {
   "cell_type": "code",
   "execution_count": null,
   "metadata": {
    "collapsed": false
   },
   "outputs": [],
   "source": []
  }
 ],
 "metadata": {
  "kernelspec": {
   "display_name": "Python 3",
   "language": "python",
   "name": "python3"
  },
  "language_info": {
   "codemirror_mode": {
    "name": "ipython",
    "version": 3
   },
   "file_extension": ".py",
   "mimetype": "text/x-python",
   "name": "python",
   "nbconvert_exporter": "python",
   "pygments_lexer": "ipython3",
   "version": "3.6.2"
  }
 },
 "nbformat": 4,
 "nbformat_minor": 2
}
