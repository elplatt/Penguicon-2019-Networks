{
 "cells": [
  {
   "cell_type": "markdown",
   "metadata": {},
   "source": [
    "# Network Science With NetworkX\n",
    "## Penguicon 2019\n",
    "Contains code derived from [_Network Science in Python with NetworkX Quick Start Guide_](https://www.packtpub.com/big-data-and-business-intelligence/network-science-python-and-networkx-quick-start-guide) distrubuted under the MIT License. See `LICENSE` for more information.\n",
    "\n",
    "<p><img style=\"float:left; padding-right: 2em;\" src=\"https://d255esdrn735hr.cloudfront.net/sites/default/files/imagecache/ppv4_main_book_cover/cover_36.png\"/>\n",
    "<span style=\"font-size: 2em;\">bit.ly/NetworkXBook</span></p>"
   ]
  },
  {
   "cell_type": "markdown",
   "metadata": {},
   "source": [
    "## Setup\n",
    "### Download code"
   ]
  },
  {
   "cell_type": "markdown",
   "metadata": {},
   "source": [
    "    git clone https://github.com/elplatt/Penguicon-2019-Networks.git\n",
    "    cd Penguicon-2019-Networks\n",
    "    jupyter lab"
   ]
  },
  {
   "cell_type": "markdown",
   "metadata": {},
   "source": [
    "#### Import libraries"
   ]
  },
  {
   "cell_type": "code",
   "execution_count": null,
   "metadata": {},
   "outputs": [],
   "source": [
    "# Configure plotting in Jupyter\n",
    "from matplotlib import pyplot as plt\n",
    "%matplotlib inline\n",
    "\n",
    "# Import NetworkX\n",
    "import networkx as nx"
   ]
  },
  {
   "cell_type": "markdown",
   "metadata": {},
   "source": [
    "#### (Optional) Configure plotting parameters and random number generation"
   ]
  },
  {
   "cell_type": "code",
   "execution_count": null,
   "metadata": {},
   "outputs": [],
   "source": [
    "plt.rcParams.update({\n",
    "    'figure.figsize': (16, 9),\n",
    "    'axes.spines.right': False,\n",
    "    'axes.spines.left': False,\n",
    "    'axes.spines.top': False,\n",
    "    'axes.spines.bottom': False})\n",
    "# Seed random number generator\n",
    "import random\n",
    "from numpy import random as nprand\n",
    "seed = hash(\"Network Science in Python\") % 2**32\n",
    "nprand.seed(seed)\n",
    "random.seed(seed)"
   ]
  },
  {
   "cell_type": "markdown",
   "metadata": {},
   "source": [
    "## Your first network"
   ]
  },
  {
   "cell_type": "code",
   "execution_count": null,
   "metadata": {},
   "outputs": [],
   "source": [
    "nx.draw_networkx(nx.karate_club_graph())"
   ]
  },
  {
   "cell_type": "markdown",
   "metadata": {},
   "source": [
    "## Building Networks"
   ]
  },
  {
   "cell_type": "code",
   "execution_count": null,
   "metadata": {},
   "outputs": [],
   "source": [
    "# Create an empty network\n",
    "G = nx.Graph()\n",
    "G"
   ]
  },
  {
   "cell_type": "code",
   "execution_count": null,
   "metadata": {},
   "outputs": [],
   "source": [
    "# Add some nodes\n",
    "G.add_node('Detroit')\n",
    "G.add_node('Chicago')\n",
    "G.add_node('Milwaukee')"
   ]
  },
  {
   "cell_type": "code",
   "execution_count": null,
   "metadata": {},
   "outputs": [],
   "source": [
    "nx.draw_networkx(G, node_color='#afafff', node_size=4000)"
   ]
  },
  {
   "cell_type": "code",
   "execution_count": null,
   "metadata": {},
   "outputs": [],
   "source": [
    "# Add some edges\n",
    "G.add_edge('Detroit', 'Chicago')\n",
    "G.add_edge('Chicago', 'Milwaukee')"
   ]
  },
  {
   "cell_type": "code",
   "execution_count": null,
   "metadata": {},
   "outputs": [],
   "source": [
    "nx.draw_networkx(G, node_color='#afafff', node_size=4000)"
   ]
  },
  {
   "cell_type": "code",
   "execution_count": null,
   "metadata": {},
   "outputs": [],
   "source": [
    "G.add_nodes_from([\n",
    "    'Toledo',\n",
    "    'Albany',\n",
    "    'Boston',\n",
    "    'New York'\n",
    "])"
   ]
  },
  {
   "cell_type": "code",
   "execution_count": null,
   "metadata": {},
   "outputs": [],
   "source": [
    "G.add_edges_from([\n",
    "    ('Detroit', 'Toledo'),\n",
    "    ('Chicago', 'Toledo'),\n",
    "    ('Toledo', 'Albany'),\n",
    "    ('Albany', 'Boston'),\n",
    "    ('Albany', 'New York'),\n",
    "    ('Boston', 'New York')\n",
    "])"
   ]
  },
  {
   "cell_type": "code",
   "execution_count": null,
   "metadata": {},
   "outputs": [],
   "source": [
    "nx.draw_networkx(G, node_color='#afafff', node_size=4000)"
   ]
  },
  {
   "cell_type": "markdown",
   "metadata": {},
   "source": [
    "## Exploring networks"
   ]
  },
  {
   "cell_type": "code",
   "execution_count": null,
   "metadata": {},
   "outputs": [],
   "source": [
    "# List nodes\n",
    "G.nodes"
   ]
  },
  {
   "cell_type": "code",
   "execution_count": null,
   "metadata": {},
   "outputs": [],
   "source": [
    "# List edges\n",
    "G.edges"
   ]
  },
  {
   "cell_type": "code",
   "execution_count": null,
   "metadata": {},
   "outputs": [],
   "source": [
    "# Iterating through edges\n",
    "for v, w in G.edges:\n",
    "    print('{} is connected to {}'.format(v, w))"
   ]
  },
  {
   "cell_type": "code",
   "execution_count": null,
   "metadata": {},
   "outputs": [],
   "source": [
    "# Finding neighbors\n",
    "G.neighbors('Detroit')"
   ]
  },
  {
   "cell_type": "code",
   "execution_count": null,
   "metadata": {},
   "outputs": [],
   "source": [
    "list(G.neighbors('Detroit'))"
   ]
  },
  {
   "cell_type": "markdown",
   "metadata": {},
   "source": [
    "## Annotating nodes and edges"
   ]
  },
  {
   "cell_type": "code",
   "execution_count": null,
   "metadata": {},
   "outputs": [],
   "source": [
    "# Add node with additional data\n",
    "G.add_node('Detroit', address='11 W Baltimore Ave, Detroit, MI')"
   ]
  },
  {
   "cell_type": "code",
   "execution_count": null,
   "metadata": {},
   "outputs": [],
   "source": [
    "# Annotate existing node with data\n",
    "G.nodes['Chicago']['address'] = '225 S Canal St, Chicago, IL'"
   ]
  },
  {
   "cell_type": "code",
   "execution_count": null,
   "metadata": {},
   "outputs": [],
   "source": [
    "# Annotate existing edge with data\n",
    "G.edges['Detroit', 'Chicago']['route'] = 'Wolverine Limited'"
   ]
  },
  {
   "cell_type": "code",
   "execution_count": null,
   "metadata": {},
   "outputs": [],
   "source": [
    "G.node['Detroit']"
   ]
  },
  {
   "cell_type": "code",
   "execution_count": null,
   "metadata": {},
   "outputs": [],
   "source": [
    "G.edges['Detroit', 'Chicago']"
   ]
  },
  {
   "cell_type": "markdown",
   "metadata": {},
   "source": [
    "## Reading networks from files"
   ]
  },
  {
   "cell_type": "code",
   "execution_count": null,
   "metadata": {},
   "outputs": [],
   "source": [
    "# Download file\n",
    "import urllib\n",
    "url = 'https://www.macalester.edu/~abeverid/data/stormofswords.csv'\n",
    "response = urllib.request.urlopen(url)\n",
    "data = response.read()\n",
    "with open('stormofswords.csv', 'wb') as f:\n",
    "    f.write(data)"
   ]
  },
  {
   "cell_type": "code",
   "execution_count": null,
   "metadata": {},
   "outputs": [],
   "source": [
    "G = nx.Graph()\n",
    "with open('stormofswords.csv') as f:\n",
    "    f.readline()\n",
    "    rows = list(f)\n",
    "    for row in rows:\n",
    "        v, w, weight = row.split(\",\")\n",
    "        G.add_edge(v, w, weight=int(weight))"
   ]
  },
  {
   "cell_type": "code",
   "execution_count": null,
   "metadata": {},
   "outputs": [],
   "source": [
    "plt.figure(figsize=(16, 16))\n",
    "nx.draw_networkx(\n",
    "    G,\n",
    "    weight=weight,\n",
    "    node_color='#afafff',\n",
    "    node_size=1000,\n",
    "    edge_color='#999999',\n",
    "    font_size=8,)"
   ]
  },
  {
   "cell_type": "markdown",
   "metadata": {},
   "source": [
    "## Centrality"
   ]
  },
  {
   "cell_type": "code",
   "execution_count": null,
   "metadata": {},
   "outputs": [],
   "source": [
    "# Get betweenness for all nodes\n",
    "betweenness = nx.betweenness_centrality(G)\n",
    "# Find 10 highest betweenness nodes\n",
    "sorted(betweenness.items(), key=lambda x: x[1], reverse=True)[:10]"
   ]
  },
  {
   "cell_type": "code",
   "execution_count": null,
   "metadata": {},
   "outputs": [],
   "source": [
    "# Get page_rank for all nodes\n",
    "page_rank = nx.pagerank(G)\n",
    "# Find 10 highest page_rank nodes\n",
    "sorted(page_rank.items(), key=lambda x: x[1], reverse=True)[:10]"
   ]
  },
  {
   "cell_type": "markdown",
   "metadata": {},
   "source": [
    "## Community detection"
   ]
  },
  {
   "cell_type": "code",
   "execution_count": null,
   "metadata": {},
   "outputs": [],
   "source": [
    "# Import the community module\n",
    "import networkx.algorithms.community as nxcom\n",
    "# Find the communities\n",
    "G = nx.karate_club_graph()\n",
    "communities = nxcom.greedy_modularity_communities(G)\n",
    "# Show the communities\n",
    "for com in communities:\n",
    "    print(sorted(com))"
   ]
  },
  {
   "cell_type": "code",
   "execution_count": null,
   "metadata": {},
   "outputs": [],
   "source": [
    "def get_color(i, r_off=1, g_off=1, b_off=1):\n",
    "    '''Return the ith element in a sequence of distinguishible colors.'''\n",
    "    r0, g0, b0 = 0, 0, 0\n",
    "    n = 16\n",
    "    low, high = 0.1, 0.9\n",
    "    span = high - low\n",
    "    r = low + span * (((i + r_off) * 3) % n) / (n - 1)\n",
    "    g = low + span * (((i + g_off) * 5) % n) / (n - 1)\n",
    "    b = low + span * (((i + b_off) * 7) % n) / (n - 1)\n",
    "    return (r, g, b)"
   ]
  },
  {
   "cell_type": "code",
   "execution_count": null,
   "metadata": {},
   "outputs": [],
   "source": [
    "def set_node_community(G, communities):\n",
    "    '''Add community to node attributes'''\n",
    "    for c, v_c in enumerate(communities):\n",
    "        for v in v_c:\n",
    "            # Add 1 to save 0 for external edges\n",
    "            G.nodes[v]['community'] = c + 1\n",
    "            \n",
    "def set_edge_community(G):\n",
    "    '''Find internal edges and add their community to their attributes'''\n",
    "    for v, w, in G.edges:\n",
    "        if G.nodes[v]['community'] == G.nodes[w]['community']:\n",
    "            # Internal edge, mark with community\n",
    "            G.edges[v, w]['community'] = G.nodes[v]['community']\n",
    "        else:\n",
    "            # External edge, mark as 0\n",
    "            G.edges[v, w]['community'] = 0"
   ]
  },
  {
   "cell_type": "code",
   "execution_count": null,
   "metadata": {},
   "outputs": [],
   "source": [
    "# Set node and edge communities\n",
    "set_node_community(G, communities)\n",
    "set_edge_community(G)\n",
    "\n",
    "# Set community color for nodes\n",
    "node_color = [\n",
    "    get_color(G.nodes[v]['community'])\n",
    "    for v in G.nodes]\n",
    "\n",
    "# Set community color for internal edges\n",
    "external = [\n",
    "    (v, w)\n",
    "    for v, w in G.edges\n",
    "    if G.edges[v, w]['community'] == 0]\n",
    "internal = [(v, w)\n",
    "            for v, w in G.edges\n",
    "            if G.edges[v, w]['community'] > 0]\n",
    "internal_color = [\n",
    "    get_color(G.edges[e]['community'])\n",
    "    for e in internal]"
   ]
  },
  {
   "cell_type": "code",
   "execution_count": null,
   "metadata": {},
   "outputs": [],
   "source": [
    "karate_pos = nx.spring_layout(G)\n",
    "# Draw external edges\n",
    "nx.draw_networkx(\n",
    "    G,\n",
    "    pos=karate_pos,\n",
    "    node_size=0,\n",
    "    edgelist=external,\n",
    "    edge_color=\"#666666\")\n",
    "# Draw nodes and internal edges\n",
    "nx.draw_networkx(\n",
    "    G,\n",
    "    pos=karate_pos,\n",
    "    node_color=node_color,\n",
    "    edgelist=internal,\n",
    "    edge_color=internal_color)"
   ]
  },
  {
   "cell_type": "markdown",
   "metadata": {},
   "source": [
    "## Your own social network"
   ]
  },
  {
   "cell_type": "markdown",
   "metadata": {},
   "source": [
    "### Load data"
   ]
  },
  {
   "cell_type": "code",
   "execution_count": null,
   "metadata": {},
   "outputs": [],
   "source": [
    "import json\n",
    "\n",
    "def load_lost_circles_json(in_file):\n",
    "    '''Create a Graph from LostCircles json'''\n",
    "    with open(in_file) as f:\n",
    "        raw = json.load(f)\n",
    "    id_to_name = dict(\n",
    "        (i, datum[\"name\"])\n",
    "        for i, datum in enumerate(raw['nodes']))\n",
    "    edges = [\n",
    "        (id_to_name[datum[\"source\"]], id_to_name[datum[\"target\"]])\n",
    "        for datum in raw['links']]\n",
    "    G = nx.Graph()\n",
    "    G.add_edges_from(edges)\n",
    "    return G\n",
    "\n",
    "G = load_lost_circles_json('egonet.json')"
   ]
  },
  {
   "cell_type": "markdown",
   "metadata": {},
   "source": [
    "## Connected component"
   ]
  },
  {
   "cell_type": "code",
   "execution_count": null,
   "metadata": {},
   "outputs": [],
   "source": [
    "G = nx.subgraph(G, max(nx.connected_components(G), key=len))"
   ]
  },
  {
   "cell_type": "markdown",
   "metadata": {},
   "source": [
    "### Find communities"
   ]
  },
  {
   "cell_type": "code",
   "execution_count": null,
   "metadata": {},
   "outputs": [],
   "source": [
    "communities = nxcom.greedy_modularity_communities(G)"
   ]
  },
  {
   "cell_type": "code",
   "execution_count": null,
   "metadata": {},
   "outputs": [],
   "source": [
    "# Set node and edge communities\n",
    "set_node_community(G, communities)\n",
    "set_edge_community(G)\n",
    "\n",
    "# Set community color for nodes\n",
    "node_color = [\n",
    "    get_color(G.nodes[v]['community'])\n",
    "    for v in G.nodes]\n",
    "\n",
    "# Set community color for internal edges\n",
    "external = [\n",
    "    (v, w)\n",
    "    for v, w in G.edges\n",
    "    if G.edges[v, w]['community'] == 0]\n",
    "internal = [(v, w)\n",
    "            for v, w in G.edges\n",
    "            if G.edges[v, w]['community'] > 0]\n",
    "internal_color = [\n",
    "    get_color(G.edges[e]['community'])\n",
    "    for e in internal]"
   ]
  },
  {
   "cell_type": "code",
   "execution_count": null,
   "metadata": {},
   "outputs": [],
   "source": [
    "pos = nx.spring_layout(G)\n",
    "# Draw external edges\n",
    "nx.draw_networkx(\n",
    "    G,\n",
    "    pos=pos,\n",
    "    node_size=0,\n",
    "    edgelist=external,\n",
    "    edge_color=\"#666666\",\n",
    "    with_labels=False)\n",
    "# Draw internal edges\n",
    "nx.draw_networkx(\n",
    "    G,\n",
    "    pos=pos,\n",
    "    node_size=0,\n",
    "    edgelist=internal,\n",
    "    edge_color=internal_color,\n",
    "    alpha=0.3,\n",
    "    with_labels=False)"
   ]
  },
  {
   "cell_type": "markdown",
   "metadata": {},
   "source": [
    "## Thanks!\n",
    "<p><img style=\"float:left; padding-right: 2em;\" src=\"https://d255esdrn735hr.cloudfront.net/sites/default/files/imagecache/ppv4_main_book_cover/cover_36.png\"/>\n",
    "    <span style=\"font-size: 2em;\">elplatt.com<br/>@elplatt@greatjustice.net<br/>bit.ly/NetworkXBook</span></p>"
   ]
  },
  {
   "cell_type": "code",
   "execution_count": null,
   "metadata": {},
   "outputs": [],
   "source": []
  }
 ],
 "metadata": {
  "kernelspec": {
   "display_name": "Python 3",
   "language": "python",
   "name": "python3"
  },
  "language_info": {
   "codemirror_mode": {
    "name": "ipython",
    "version": 3
   },
   "file_extension": ".py",
   "mimetype": "text/x-python",
   "name": "python",
   "nbconvert_exporter": "python",
   "pygments_lexer": "ipython3",
   "version": "3.6.2"
  }
 },
 "nbformat": 4,
 "nbformat_minor": 2
}
